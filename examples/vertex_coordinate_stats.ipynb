{
 "cells": [
  {
   "cell_type": "code",
   "execution_count": 1,
   "metadata": {},
   "outputs": [
    {
     "data": {
      "text/plain": [
       "155622"
      ]
     },
     "execution_count": 1,
     "metadata": {},
     "output_type": "execute_result"
    }
   ],
   "source": [
    "from freesurfer_surface import Surface\n",
    "\n",
    "surface = Surface.read_triangular('../tests/subjects/fabian/surf/lh.pial')\n",
    "len(surface.vertices)"
   ]
  },
  {
   "cell_type": "code",
   "execution_count": 2,
   "metadata": {},
   "outputs": [
    {
     "data": {
      "text/html": [
       "<div>\n",
       "<style scoped>\n",
       "    .dataframe tbody tr th:only-of-type {\n",
       "        vertical-align: middle;\n",
       "    }\n",
       "\n",
       "    .dataframe tbody tr th {\n",
       "        vertical-align: top;\n",
       "    }\n",
       "\n",
       "    .dataframe thead th {\n",
       "        text-align: right;\n",
       "    }\n",
       "</style>\n",
       "<table border=\"1\" class=\"dataframe\">\n",
       "  <thead>\n",
       "    <tr style=\"text-align: right;\">\n",
       "      <th></th>\n",
       "      <th>right</th>\n",
       "      <th>anterior</th>\n",
       "      <th>superior</th>\n",
       "    </tr>\n",
       "  </thead>\n",
       "  <tbody>\n",
       "    <tr>\n",
       "      <th>0</th>\n",
       "      <td>-2.126251</td>\n",
       "      <td>-93.136818</td>\n",
       "      <td>-8.335812</td>\n",
       "    </tr>\n",
       "    <tr>\n",
       "      <th>1</th>\n",
       "      <td>-2.696686</td>\n",
       "      <td>-93.194458</td>\n",
       "      <td>-8.206024</td>\n",
       "    </tr>\n",
       "    <tr>\n",
       "      <th>2</th>\n",
       "      <td>-3.738874</td>\n",
       "      <td>-93.369530</td>\n",
       "      <td>-8.548558</td>\n",
       "    </tr>\n",
       "    <tr>\n",
       "      <th>3</th>\n",
       "      <td>-4.594223</td>\n",
       "      <td>-93.183983</td>\n",
       "      <td>-8.173017</td>\n",
       "    </tr>\n",
       "    <tr>\n",
       "      <th>4</th>\n",
       "      <td>-2.160212</td>\n",
       "      <td>-93.190521</td>\n",
       "      <td>-8.865552</td>\n",
       "    </tr>\n",
       "  </tbody>\n",
       "</table>\n",
       "</div>"
      ],
      "text/plain": [
       "      right   anterior  superior\n",
       "0 -2.126251 -93.136818 -8.335812\n",
       "1 -2.696686 -93.194458 -8.206024\n",
       "2 -3.738874 -93.369530 -8.548558\n",
       "3 -4.594223 -93.183983 -8.173017\n",
       "4 -2.160212 -93.190521 -8.865552"
      ]
     },
     "execution_count": 2,
     "metadata": {},
     "output_type": "execute_result"
    }
   ],
   "source": [
    "import pandas\n",
    "\n",
    "vertex_frame = pandas.DataFrame(surface.vertices)\n",
    "vertex_frame.head()"
   ]
  },
  {
   "cell_type": "code",
   "execution_count": 3,
   "metadata": {},
   "outputs": [
    {
     "data": {
      "text/html": [
       "<div>\n",
       "<style scoped>\n",
       "    .dataframe tbody tr th:only-of-type {\n",
       "        vertical-align: middle;\n",
       "    }\n",
       "\n",
       "    .dataframe tbody tr th {\n",
       "        vertical-align: top;\n",
       "    }\n",
       "\n",
       "    .dataframe thead th {\n",
       "        text-align: right;\n",
       "    }\n",
       "</style>\n",
       "<table border=\"1\" class=\"dataframe\">\n",
       "  <thead>\n",
       "    <tr style=\"text-align: right;\">\n",
       "      <th></th>\n",
       "      <th>right</th>\n",
       "      <th>anterior</th>\n",
       "      <th>superior</th>\n",
       "    </tr>\n",
       "  </thead>\n",
       "  <tbody>\n",
       "    <tr>\n",
       "      <th>count</th>\n",
       "      <td>155622.000000</td>\n",
       "      <td>155622.000000</td>\n",
       "      <td>155622.000000</td>\n",
       "    </tr>\n",
       "    <tr>\n",
       "      <th>mean</th>\n",
       "      <td>-26.856146</td>\n",
       "      <td>-20.509144</td>\n",
       "      <td>24.335409</td>\n",
       "    </tr>\n",
       "    <tr>\n",
       "      <th>std</th>\n",
       "      <td>18.796259</td>\n",
       "      <td>39.092622</td>\n",
       "      <td>28.195845</td>\n",
       "    </tr>\n",
       "    <tr>\n",
       "      <th>min</th>\n",
       "      <td>-68.530327</td>\n",
       "      <td>-93.548004</td>\n",
       "      <td>-39.114269</td>\n",
       "    </tr>\n",
       "    <tr>\n",
       "      <th>25%</th>\n",
       "      <td>-41.877634</td>\n",
       "      <td>-53.572824</td>\n",
       "      <td>1.600599</td>\n",
       "    </tr>\n",
       "    <tr>\n",
       "      <th>50%</th>\n",
       "      <td>-26.917927</td>\n",
       "      <td>-23.102324</td>\n",
       "      <td>24.000984</td>\n",
       "    </tr>\n",
       "    <tr>\n",
       "      <th>75%</th>\n",
       "      <td>-9.776343</td>\n",
       "      <td>10.147226</td>\n",
       "      <td>47.299869</td>\n",
       "    </tr>\n",
       "    <tr>\n",
       "      <th>max</th>\n",
       "      <td>7.291560</td>\n",
       "      <td>70.085968</td>\n",
       "      <td>86.737892</td>\n",
       "    </tr>\n",
       "  </tbody>\n",
       "</table>\n",
       "</div>"
      ],
      "text/plain": [
       "               right       anterior       superior\n",
       "count  155622.000000  155622.000000  155622.000000\n",
       "mean      -26.856146     -20.509144      24.335409\n",
       "std        18.796259      39.092622      28.195845\n",
       "min       -68.530327     -93.548004     -39.114269\n",
       "25%       -41.877634     -53.572824       1.600599\n",
       "50%       -26.917927     -23.102324      24.000984\n",
       "75%        -9.776343      10.147226      47.299869\n",
       "max         7.291560      70.085968      86.737892"
      ]
     },
     "execution_count": 3,
     "metadata": {},
     "output_type": "execute_result"
    }
   ],
   "source": [
    "vertex_frame.describe()"
   ]
  }
 ],
 "metadata": {
  "kernelspec": {
   "display_name": "Python 3",
   "language": "python",
   "name": "python3"
  },
  "language_info": {
   "codemirror_mode": {
    "name": "ipython",
    "version": 3
   },
   "file_extension": ".py",
   "mimetype": "text/x-python",
   "name": "python",
   "nbconvert_exporter": "python",
   "pygments_lexer": "ipython3",
   "version": "3.6.7"
  }
 },
 "nbformat": 4,
 "nbformat_minor": 2
}
