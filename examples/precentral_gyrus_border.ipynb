{
 "cells": [
  {
   "cell_type": "markdown",
   "metadata": {},
   "source": [
    "# Add Cubes Around Surface of Precentral Gyrus"
   ]
  },
  {
   "cell_type": "code",
   "execution_count": 1,
   "metadata": {},
   "outputs": [
    {
     "data": {
      "text/plain": [
       "Label(name=precentral, index=24, color=#3c14dc)"
      ]
     },
     "execution_count": 1,
     "metadata": {},
     "output_type": "execute_result"
    }
   ],
   "source": [
    "from freesurfer_surface import Surface\n",
    "\n",
    "SUBJECTS_DIR = '../tests/subjects'\n",
    "surface = Surface.read_triangular(SUBJECTS_DIR + '/fabian/surf/lh.pial')\n",
    "surface.load_annotation_file(SUBJECTS_DIR + '/fabian/label/lh.aparc.annot')\n",
    "\n",
    "precentral_label, = filter(lambda l: l.name == 'precentral', surface.annotation.labels.values())\n",
    "precentral_label"
   ]
  },
  {
   "cell_type": "code",
   "execution_count": 2,
   "metadata": {},
   "outputs": [
    {
     "data": {
      "text/plain": [
       "PolygonalChain(vertex_indices=(33450, 33454, 34870, 36281, 37761, 39213, 39193, 40741, 42258, 43800, 43786, 43785, 45355, 45344, 45343, 46815, 46811, 48178, 49598, 51012, 51013, 52441, 53824, 55100, 56329, 57502, 58620, 58616, 59710, 60747, 60750, 60749, 61818, 62930, 62931, 62941, 62949, 62950, 62959, 62960, 64163, 64175, 64187, 64195, 64202, 64203, 64210, 65576, 65585, 66968, 66976, 66977, 66986, 66996, 67005, 67006, 67016, 67017, 67018, 67019, 67020, 68224, 68225, 69437, 70772, 72119, 73344, 74639, 74640, 75876, 77094, 78276, 78288, 79367, 80520, 80545, 80546, 80574, 80594, 79445, 78350, 78351, 79447, 79448, 79426, 79427, 79428, 79398, 79399, 79400, 78316, 79368, 79369, 79350, 79351, 80503, 80488, 81684, 81685, 82897, 82885, 84057, 84058, 84049, 85333, 86554, 86533, 86516, 86506, 87755, 87756, 89146, 90404, 90405, 91703, 92898, 92897, 91715, 91729, 91728, 91751, 91750, 91765, 91779, 90513, 90532, 90550, 89220, 89243, 89265, 87885, 87903, 87921, 87942, 87964, 87980, 89341, 90631, 91880, 93053, 93039, 94129, 95223, 96297, 96296, 97416, 98568, 99798, 99812, 101023, 101045, 102245, 102267, 102268, 103426, 103427, 103428, 103429, 103430, 103443, 103444, 103445, 102291, 102301, 102302, 102303, 101087, 101095, 101096, 101103, 101104, 101114, 101115, 102330, 102339, 102340, 102356, 102357, 103504, 103525, 104661, 104687, 105786, 105810, 105826, 105825, 106913, 107985, 106930, 106931, 108007, 108029, 109039, 109058, 110124, 110145, 110146, 111262, 111263, 112541, 113902, 112562, 111285, 111284, 111283, 111282, 111281, 111257, 111256, 110139, 110117, 110116, 110099, 109032, 109016, 108000, 107999, 107998, 106924, 106903, 105818, 105799, 105798, 104699, 104698, 104676, 103540, 103539, 103538, 103537, 103514, 102367, 102349, 101136, 99907, 98641, 98658, 97488, 97496, 97497, 96405, 95334, 95343, 94261, 94270, 93156, 93167, 94280, 94290, 94305, 94326, 94327, 94328, 94343, 95439, 95424, 95425, 95441, 95455, 95456, 94373, 95442, 95443, 96504, 96505, 97585, 97568, 97586, 97587, 97588, 97608, 97609, 97630, 97631, 98854, 98836, 98821, 98807, 98792, 98793, 98778, 98779, 99993, 99979, 99968, 98741, 98721, 97510, 96419, 95337, 95348, 95347, 94265, 94252, 94251, 94241, 94240, 94239, 94238, 94237, 94230, 94229, 93122, 93121, 93120, 93119, 91982, 91981, 90727, 90726, 89444, 88079, 86741, 85505, 85504, 84257, 83082, 83081, 81917, 80703, 79560, 79548, 78462, 78461, 77310, 77297, 76087, 76105, 74843, 73534, 72350, 71109, 69744, 69743, 68458, 68439, 67255, 67222, 65958, 65957, 65925, 65895, 65878, 64562, 64542, 63264, 63255, 62118, 62107, 62118, 62119, 61044, 61045, 60013, 60001, 58903, 58889, 58890, 57747, 56555, 55369, 54150, 52799, 52798, 52797, 52796, 51344, 51343, 51327, 51326, 51325, 51324, 51323, 52779, 52778, 54110, 54109, 54108, 54090, 54089, 54088, 54087, 54086, 54085, 52746, 52745, 52744, 52724, 52723, 51276, 49856, 48417, 48397, 47010, 45559, 43967, 43954, 42390, 40864, 39306, 39293, 37832, 37820, 36359, 34946, 34932, 33497, 34920, 34919, 33486, 33479, 33472, 33471, 33464, 32080, 32073, 32072, 32065))"
      ]
     },
     "execution_count": 2,
     "metadata": {},
     "output_type": "execute_result"
    }
   ],
   "source": [
    "border_chain, = surface.find_label_border_polygonal_chains(precentral_label)\n",
    "border_chain"
   ]
  },
  {
   "cell_type": "code",
   "execution_count": 3,
   "metadata": {
    "scrolled": true
   },
   "outputs": [],
   "source": [
    "import numpy\n",
    "from freesurfer_surface import Vertex, Triangle\n",
    "\n",
    "def unit_vector(vector: numpy.array) -> numpy.array:\n",
    "    return vector / numpy.linalg.norm(vector)\n",
    "\n",
    "BORDER_WIDTH = 0.8 # mm\n",
    "\n",
    "for vertex_triplet_indices in border_chain.adjacent_vertex_indices(3):\n",
    "    vertex_triplet = surface.select_vertices(vertex_triplet_indices)\n",
    "    backward_vector = vertex_triplet[0] - vertex_triplet[1]\n",
    "    forward_vector = unit_vector(vertex_triplet[2] - vertex_triplet[1]) * BORDER_WIDTH / 2\n",
    "    upward_vector = unit_vector(numpy.cross(backward_vector, forward_vector)) * BORDER_WIDTH / 2\n",
    "    sideward_vector = unit_vector(numpy.cross(upward_vector, forward_vector)) * BORDER_WIDTH / 2\n",
    "    cross_section_corners = [vertex_triplet[1] + v\n",
    "                             for v in [-upward_vector -sideward_vector,\n",
    "                                       -upward_vector +sideward_vector,\n",
    "                                       +upward_vector +sideward_vector,\n",
    "                                       +upward_vector -sideward_vector]]\n",
    "    corner_indices = [[surface.add_vertex(Vertex(*(coords + forward_dir))) for coords in cross_section_corners]\n",
    "                      for forward_dir in [-forward_vector, +forward_vector]]\n",
    "    for surface_corner_indices in corner_indices:\n",
    "        surface.add_rectangle(surface_corner_indices)\n",
    "    for i in range(4):\n",
    "        j = (i + 1) % 4\n",
    "        surface.add_rectangle((corner_indices[0][i], corner_indices[0][j],\n",
    "                               corner_indices[1][j], corner_indices[1][i]))\n",
    "\n",
    "surface.write_triangular('precentral-border.lh.pial')"
   ]
  },
  {
   "cell_type": "markdown",
   "metadata": {},
   "source": [
    "```sh\n",
    "freeview --surface examples/precentral-border.lh.pial:annot=tests/subjects/fabian/label/lh.aparc.annot\n",
    "```"
   ]
  }
 ],
 "metadata": {
  "kernelspec": {
   "display_name": "Python 3",
   "language": "python",
   "name": "python3"
  },
  "language_info": {
   "codemirror_mode": {
    "name": "ipython",
    "version": 3
   },
   "file_extension": ".py",
   "mimetype": "text/x-python",
   "name": "python",
   "nbconvert_exporter": "python",
   "pygments_lexer": "ipython3",
   "version": "3.5.10"
  }
 },
 "nbformat": 4,
 "nbformat_minor": 2
}
